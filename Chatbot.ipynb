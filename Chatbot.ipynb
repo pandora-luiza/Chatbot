{
  "cells": [
    {
      "cell_type": "markdown",
      "metadata": {
        "id": "view-in-github",
        "colab_type": "text"
      },
      "source": [
        "<a href=\"https://colab.research.google.com/github/pandora-luiza/Chatbot/blob/main/Chatbot.ipynb\" target=\"_parent\"><img src=\"https://colab.research.google.com/assets/colab-badge.svg\" alt=\"Open In Colab\"/></a>"
      ]
    },
    {
      "cell_type": "code",
      "execution_count": 5,
      "metadata": {
        "id": "pvRSAa2lWhNh"
      },
      "outputs": [],
      "source": [
        "!pip install -q -U google-generativeai"
      ]
    },
    {
      "cell_type": "code",
      "execution_count": 6,
      "metadata": {
        "id": "p6GYu7SIauU5"
      },
      "outputs": [],
      "source": [
        "import google.generativeai as genai\n",
        "from google.colab import userdata\n",
        "\n",
        "api_key = userdata.get('SECRET_KEY')\n",
        "genai.configure(api_key=api_key)"
      ]
    },
    {
      "cell_type": "code",
      "execution_count": 7,
      "metadata": {
        "colab": {
          "base_uri": "https://localhost:8080/",
          "height": 146
        },
        "id": "0pdU5yX3bSm4",
        "outputId": "6f4a9084-a0bb-4f0a-db4d-8ec7b1cb5ad3"
      },
      "outputs": [
        {
          "output_type": "stream",
          "name": "stdout",
          "text": [
            "models/gemini-1.0-pro\n",
            "models/gemini-1.0-pro-001\n",
            "models/gemini-1.0-pro-latest\n",
            "models/gemini-1.0-pro-vision-latest\n",
            "models/gemini-1.5-pro-latest\n",
            "models/gemini-pro\n",
            "models/gemini-pro-vision\n"
          ]
        }
      ],
      "source": [
        "for m in genai.list_models():\n",
        "  if 'generateContent' in m.supported_generation_methods:\n",
        "    print(m.name)\n"
      ]
    },
    {
      "cell_type": "code",
      "execution_count": 8,
      "metadata": {
        "id": "tW0TwR4vdzk2"
      },
      "outputs": [],
      "source": [
        "generation_config = {\n",
        "    'candidate_count': 1,\n",
        "    'temperature' : 0.5,\n",
        "}"
      ]
    },
    {
      "cell_type": "code",
      "execution_count": 9,
      "metadata": {
        "id": "Wy_jhrv0epPE"
      },
      "outputs": [],
      "source": [
        "safety_settings = {\n",
        "    'HARASSMENT': 'BLOCK_NONE',\n",
        "    'HATE': 'BLOCK_NONE',\n",
        "    'SEXUAL': 'BLOCK_NONE',\n",
        "    'DANGEROUS': 'BLOCK_NONE',\n",
        "}"
      ]
    },
    {
      "cell_type": "code",
      "execution_count": 10,
      "metadata": {
        "id": "KICMkt7rgWIR"
      },
      "outputs": [],
      "source": [
        "model = genai.GenerativeModel(model_name='gemini-1.0-pro',\n",
        "                              generation_config=generation_config,\n",
        "                              safety_settings=safety_settings)"
      ]
    },
    {
      "cell_type": "code",
      "execution_count": 11,
      "metadata": {
        "colab": {
          "base_uri": "https://localhost:8080/",
          "height": 571
        },
        "id": "gQeJ74Yehiz2",
        "outputId": "92560c29-b841-4e00-a0a6-c1de7790ae7c"
      },
      "outputs": [
        {
          "output_type": "stream",
          "name": "stdout",
          "text": [
            "**Recursos Online:**\n",
            "\n",
            "* **Coursera:** Cursos de IA, aprendizado de máquina e processamento de linguagem natural\n",
            "* **edX:** Cursos de IA, aprendizado profundo e ciência de dados\n",
            "* **Udemy:** Cursos de IA para iniciantes e avançados\n",
            "* **MIT OpenCourseWare:** Aulas e materiais de cursos de IA do MIT\n",
            "* **Google AI:** Recursos de aprendizado, artigos e documentação sobre IA\n",
            "\n",
            "**Livros:**\n",
            "\n",
            "* **Inteligência Artificial: Uma Abordagem Moderna** por Stuart Russell e Peter Norvig\n",
            "* **Aprendizado de Máquina** por Tom Mitchell\n",
            "* **Aprendizado Profundo** por Ian Goodfellow, Yoshua Bengio e Aaron Courville\n",
            "* **Inteligência Artificial: Fundamentos e Aplicações** por Rajendra Akerkar e Prasad Joshi\n",
            "* **Inteligência Artificial Explicada** por Demis Hassabis e John Krakauer\n",
            "\n",
            "**Artigos e Publicações:**\n",
            "\n",
            "* **Nature Machine Intelligence:** Publicação científica que cobre pesquisas avançadas em IA\n",
            "* **IEEE Transactions on Artificial Intelligence:** Publicação técnica que cobre tópicos teóricos e práticos de IA\n",
            "* **AI Magazine:** Publicação da AAAI (Association for the Advancement of Artificial Intelligence) que apresenta artigos sobre tendências e pesquisas atuais de IA\n",
            "* **arXiv:** Repositório de pré-impressões de artigos de pesquisa em IA e campos relacionados\n",
            "\n",
            "**Eventos e Conferências:**\n",
            "\n",
            "* **Conferência Internacional sobre Inteligência Artificial (IJCAI)**\n",
            "* **Conferência sobre Sistemas de Processamento de Informação Neural (NeurIPS)**\n",
            "* **Conferência Internacional sobre Aprendizado de Máquina (ICML)**\n",
            "* **Conferência Internacional sobre Visão Computacional (ICCV)**\n",
            "* **Conferência Internacional sobre Processamento de Linguagem Natural (ACL)**\n"
          ]
        }
      ],
      "source": [
        "response = model.generate_content('Vamos aprender conteúdo sobre IA. Me dê sugestões.')\n",
        "print(response.text)"
      ]
    },
    {
      "cell_type": "code",
      "execution_count": 12,
      "metadata": {
        "id": "IMW-zqiWkDmu"
      },
      "outputs": [],
      "source": [
        "chat = model.start_chat(history=[])"
      ]
    },
    {
      "cell_type": "code",
      "execution_count": 13,
      "metadata": {
        "colab": {
          "base_uri": "https://localhost:8080/",
          "height": 202
        },
        "id": "LpePQxgzkdyT",
        "outputId": "62f62671-a50e-437d-def8-fcf0904cc7d8"
      },
      "outputs": [
        {
          "name": "stdout",
          "output_type": "stream",
          "text": [
            "Esperando prompt:Qual a capital da Espanha?\n",
            "Resposta: Madri \n",
            "\n",
            "Esperando prompt:E qual a comida típica desse País?\n",
            "Resposta: Paella \n",
            "\n",
            "Esperando prompt:E qual é a população dessa cidade?\n",
            "Resposta: 3.305.408 (2022) \n",
            "\n",
            "Esperando prompt:fim\n"
          ]
        }
      ],
      "source": [
        "prompt = input('Esperando prompt:')\n",
        "\n",
        "while prompt != 'fim':\n",
        "  response = chat.send_message(prompt)\n",
        "  print('Resposta:', response.text, '\\n')\n",
        "  prompt = input('Esperando prompt:')"
      ]
    },
    {
      "cell_type": "code",
      "source": [
        "#Melhorando a visualização\n",
        "#Código disponível em https://ai.google.dev/tutorials/python_quickstart#import_packages\n",
        "import textwrap\n",
        "from IPython.display import display\n",
        "from IPython.display import Markdown\n",
        "\n",
        "def to_markdown(text):\n",
        "  text = text.replace('•', '  *')\n",
        "  return Markdown(textwrap.indent(text, '> ', predicate=lambda _: True))\n",
        "\n",
        "#Imprimindo o histórico\n",
        "for message in chat.history:\n",
        "  display(to_markdown(f'**{message.role}**: {message.parts[0].text}'))\n",
        "  print('-------------------------------------------')"
      ],
      "metadata": {
        "colab": {
          "base_uri": "https://localhost:8080/",
          "height": 400
        },
        "id": "kkBac5WE3LAq",
        "outputId": "00986537-64bb-41d3-dad5-0a061bca6a54"
      },
      "execution_count": 14,
      "outputs": [
        {
          "output_type": "display_data",
          "data": {
            "text/plain": [
              "<IPython.core.display.Markdown object>"
            ],
            "text/markdown": "> **user**: Qual a capital da Espanha?"
          },
          "metadata": {}
        },
        {
          "output_type": "stream",
          "name": "stdout",
          "text": [
            "-------------------------------------------\n"
          ]
        },
        {
          "output_type": "display_data",
          "data": {
            "text/plain": [
              "<IPython.core.display.Markdown object>"
            ],
            "text/markdown": "> **model**: Madri"
          },
          "metadata": {}
        },
        {
          "output_type": "stream",
          "name": "stdout",
          "text": [
            "-------------------------------------------\n"
          ]
        },
        {
          "output_type": "display_data",
          "data": {
            "text/plain": [
              "<IPython.core.display.Markdown object>"
            ],
            "text/markdown": "> **user**: E qual a comida típica desse País?"
          },
          "metadata": {}
        },
        {
          "output_type": "stream",
          "name": "stdout",
          "text": [
            "-------------------------------------------\n"
          ]
        },
        {
          "output_type": "display_data",
          "data": {
            "text/plain": [
              "<IPython.core.display.Markdown object>"
            ],
            "text/markdown": "> **model**: Paella"
          },
          "metadata": {}
        },
        {
          "output_type": "stream",
          "name": "stdout",
          "text": [
            "-------------------------------------------\n"
          ]
        },
        {
          "output_type": "display_data",
          "data": {
            "text/plain": [
              "<IPython.core.display.Markdown object>"
            ],
            "text/markdown": "> **user**: E qual é a população dessa cidade?"
          },
          "metadata": {}
        },
        {
          "output_type": "stream",
          "name": "stdout",
          "text": [
            "-------------------------------------------\n"
          ]
        },
        {
          "output_type": "display_data",
          "data": {
            "text/plain": [
              "<IPython.core.display.Markdown object>"
            ],
            "text/markdown": "> **model**: 3.305.408 (2022)"
          },
          "metadata": {}
        },
        {
          "output_type": "stream",
          "name": "stdout",
          "text": [
            "-------------------------------------------\n"
          ]
        }
      ]
    }
  ],
  "metadata": {
    "colab": {
      "provenance": [],
      "authorship_tag": "ABX9TyN26+ToyRWUvWX7mNaO4a+6",
      "include_colab_link": true
    },
    "kernelspec": {
      "display_name": "Python 3",
      "name": "python3"
    },
    "language_info": {
      "name": "python"
    }
  },
  "nbformat": 4,
  "nbformat_minor": 0
}